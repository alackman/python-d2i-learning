{
 "cells": [
  {
   "cell_type": "code",
   "execution_count": 2,
   "metadata": {},
   "outputs": [
    {
     "name": "stdout",
     "output_type": "stream",
     "text": [
      "12.56\n"
     ]
    }
   ],
   "source": [
    "radius = 2\n",
    "pi = 3.14\n",
    "area = pi * radius**2\n",
    "\n",
    "print(area)"
   ]
  },
  {
   "cell_type": "code",
   "execution_count": 3,
   "metadata": {},
   "outputs": [
    {
     "name": "stdout",
     "output_type": "stream",
     "text": [
      "My name is CHVLR and it is pronounced 'shuh' + 'VAL' + 'ee' + 'ay'\n"
     ]
    }
   ],
   "source": [
    "name = \"CHVLR\"\n",
    "pronunciation = \"'shuh' + 'VAL' + 'ee' + 'ay'\"\n",
    "sentence = f\"My name is {name} and it is pronounced {pronunciation}\"\n",
    "print(sentence)"
   ]
  },
  {
   "cell_type": "code",
   "execution_count": 7,
   "metadata": {},
   "outputs": [
    {
     "name": "stdout",
     "output_type": "stream",
     "text": [
      "dog\n",
      "cat\n",
      "racoon\n"
     ]
    }
   ],
   "source": [
    "slice_this_phrase = 'dog cat racoon'\n",
    "\n",
    "dog = slice_this_phrase[:3]\n",
    "cat = slice_this_phrase[4:7]\n",
    "racoon = slice_this_phrase[-6:]\n",
    "\n",
    "print(dog)\n",
    "print(cat)\n",
    "print(racoon)"
   ]
  }
 ],
 "metadata": {
  "kernelspec": {
   "display_name": "Python 3",
   "language": "python",
   "name": "python3"
  },
  "language_info": {
   "codemirror_mode": {
    "name": "ipython",
    "version": 3
   },
   "file_extension": ".py",
   "mimetype": "text/x-python",
   "name": "python",
   "nbconvert_exporter": "python",
   "pygments_lexer": "ipython3",
   "version": "3.10.13"
  }
 },
 "nbformat": 4,
 "nbformat_minor": 2
}
