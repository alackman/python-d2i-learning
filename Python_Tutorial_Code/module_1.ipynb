{
 "cells": [
  {
   "cell_type": "markdown",
   "metadata": {},
   "source": [
    "## Session 1"
   ]
  },
  {
   "cell_type": "code",
   "execution_count": 2,
   "metadata": {},
   "outputs": [
    {
     "name": "stdout",
     "output_type": "stream",
     "text": [
      "12.56\n"
     ]
    }
   ],
   "source": [
    "radius = 2\n",
    "pi = 3.14\n",
    "area = pi * radius**2\n",
    "\n",
    "print(area)"
   ]
  },
  {
   "cell_type": "code",
   "execution_count": 3,
   "metadata": {},
   "outputs": [
    {
     "name": "stdout",
     "output_type": "stream",
     "text": [
      "My name is CHVLR and it is pronounced 'shuh' + 'VAL' + 'ee' + 'ay'\n"
     ]
    }
   ],
   "source": [
    "name = \"CHVLR\"\n",
    "pronunciation = \"'shuh' + 'VAL' + 'ee' + 'ay'\"\n",
    "sentence = f\"My name is {name} and it is pronounced {pronunciation}\"\n",
    "print(sentence)"
   ]
  },
  {
   "cell_type": "code",
   "execution_count": 4,
   "metadata": {},
   "outputs": [
    {
     "name": "stdout",
     "output_type": "stream",
     "text": [
      "dog\n",
      "cat\n",
      "racoon\n"
     ]
    }
   ],
   "source": [
    "slice_this_phrase = 'dog cat racoon'\n",
    "\n",
    "dog = slice_this_phrase[:3]\n",
    "cat = slice_this_phrase[4:7]\n",
    "racoon = slice_this_phrase[-6:]\n",
    "\n",
    "print(dog)\n",
    "print(cat)\n",
    "print(racoon)"
   ]
  },
  {
   "cell_type": "code",
   "execution_count": 5,
   "metadata": {},
   "outputs": [
    {
     "name": "stdout",
     "output_type": "stream",
     "text": [
      "[1, 2, 3, 4, 4, 5, 6]\n"
     ]
    }
   ],
   "source": [
    "list = [1, 2, 3]\n",
    "list.append(4)\n",
    "list.extend([4, 5, 6])\n",
    "\n",
    "print(list)"
   ]
  },
  {
   "cell_type": "markdown",
   "metadata": {},
   "source": [
    "## Session 2"
   ]
  },
  {
   "cell_type": "code",
   "execution_count": 6,
   "metadata": {},
   "outputs": [
    {
     "name": "stdout",
     "output_type": "stream",
     "text": [
      "Burger\n",
      "Soup\n",
      "dict_keys(['McDonalds', 'Starbucks', 'KFC', 'Zizzis', 'The Pub', 'Geminis'])\n",
      "dict_values(['Burger', 'Coffee', 'Chicken', ['Pizza, Pasta'], {'Monday': 'Soup', 'Tuesday': 'Sausage', 'Others': 'Booze'}, 'Food poisoning'])\n",
      "dict_items([('McDonalds', 'Burger'), ('Starbucks', 'Coffee'), ('KFC', 'Chicken'), ('Zizzis', ['Pizza, Pasta']), ('The Pub', {'Monday': 'Soup', 'Tuesday': 'Sausage', 'Others': 'Booze'}), ('Geminis', 'Food poisoning')])\n",
      "True\n"
     ]
    }
   ],
   "source": [
    "restaurants = {\"McDonalds\": \"Burger\",\n",
    "               \"Starbucks\": \"Coffee\",\n",
    "               \"KFC\": \"Chicken\",\n",
    "               \"Zizzis\": [\"Pizza, Pasta\"],\n",
    "               \"The Pub\": {\"Monday\": \"Soup\",\n",
    "                           \"Tuesday\": \"Sausage\",\n",
    "                           \"Others\": \"Booze\"\n",
    "                           }\n",
    "                        }\n",
    "\n",
    "print(restaurants[\"McDonalds\"])\n",
    "print(restaurants[\"The Pub\"][\"Monday\"])\n",
    "\n",
    "restaurants[\"Geminis\"] = \"Food poisoning\"\n",
    "\n",
    "print(restaurants.keys())\n",
    "print(restaurants.values())\n",
    "print(restaurants.items())\n",
    "\n",
    "print(\"McDonalds\" in restaurants)"
   ]
  },
  {
   "cell_type": "code",
   "execution_count": 7,
   "metadata": {},
   "outputs": [],
   "source": [
    "import pandas as pd\n",
    "\n",
    "filepath = 'https://raw.githubusercontent.com/data-to-insight/csc-validator-be-903/main/tests/fake_data/header.csv'\n",
    "\n",
    "fake_header_data = pd.read_csv(filepath)"
   ]
  },
  {
   "cell_type": "code",
   "execution_count": 8,
   "metadata": {},
   "outputs": [
    {
     "name": "stdout",
     "output_type": "stream",
     "text": [
      "    CHILD  SEX         DOB ETHNIC            UPN  MOTHER MC_DOB\n",
      "0  566910    2  27/03/2008   WROM  D051910639385     NaN    NaN\n",
      "1  384923    2  09/09/2011   REFU  L034811502612     NaN    NaN\n",
      "2  709901    1  14/02/2013   ABAN  Y021751958510     NaN    NaN\n",
      "3  550084    2  04/05/2008   AOTH  R095578985099     NaN    NaN\n",
      "4  710229    2  15/04/2002   REFU  Z095096287583     NaN    NaN\n",
      "5  733831    1  06/07/2013   WROM  Z005227500041     NaN    NaN\n",
      "6   69112    2  11/09/2010   ABAN  X089575916879     NaN    NaN\n",
      "7  853884    2  09/10/2004   WBRI  U096513817313     NaN    NaN\n",
      "8  634852    2  19/10/2006   WIRI  X019131453866     NaN    NaN\n",
      "9  512087    1  01/10/2003   MOTH  J091207487052     NaN    NaN\n",
      "       CHILD  SEX         DOB ETHNIC            UPN  MOTHER MC_DOB\n",
      "2670  152113    1  06/06/2003   WBRI  K096794376750     NaN    NaN\n",
      "2671  481370    2  12/02/2008   BAFR  C014150452081     NaN    NaN\n",
      "2672  791577    1  28/05/2011   WBRI  Q009369089812     NaN    NaN\n",
      "2673  238470    1  21/11/2013   AIND  P095222532769     NaN    NaN\n",
      "2674  437361    1  15/12/2012   WROM  G018001328504     NaN    NaN\n"
     ]
    }
   ],
   "source": [
    "print(fake_header_data.head(10))\n",
    "print(fake_header_data.tail())"
   ]
  },
  {
   "cell_type": "code",
   "execution_count": 9,
   "metadata": {},
   "outputs": [
    {
     "name": "stdout",
     "output_type": "stream",
     "text": [
      "              Name  Salary             Job Title\n",
      "0   David Richards   23600        Burger Flipper\n",
      "1        Milo Relo   38450         Robot Cleaner\n",
      "2      Jenny Paloe   19700             Funny Guy\n",
      "3  Margie Felhouse   31500  Frozen Food Procurer\n",
      "4  Brian Workansen   25000       Bingo Organiser\n",
      "   Salary             Job Title\n",
      "0   23600        Burger Flipper\n",
      "1   38450         Robot Cleaner\n",
      "2   19700             Funny Guy\n",
      "3   31500  Frozen Food Procurer\n",
      "4   25000       Bingo Organiser\n"
     ]
    }
   ],
   "source": [
    "workers = pd.DataFrame(\n",
    "    [\n",
    "        {'Name': 'David Richards',\n",
    "      'Salary': 23600,\n",
    "      'Job Title': 'Burger Flipper'},\n",
    "      {'Name': 'Milo Relo',\n",
    "      'Salary': 38450,\n",
    "      'Job Title': 'Robot Cleaner'},\n",
    "      {'Name': 'Jenny Paloe',\n",
    "      'Salary': 19700,\n",
    "      'Job Title': 'Funny Guy'},\n",
    "      {'Name': 'Margie Felhouse',\n",
    "      'Salary': 31500,\n",
    "      'Job Title': 'Frozen Food Procurer'},\n",
    "      {'Name': 'Brian Workansen',\n",
    "      'Salary': 25000,\n",
    "      'Job Title': 'Bingo Organiser'},\n",
    "    ]\n",
    ")\n",
    "print(workers)\n",
    "\n",
    "print(workers[['Salary','Job Title']])\n",
    "\n"
   ]
  },
  {
   "cell_type": "code",
   "execution_count": 10,
   "metadata": {},
   "outputs": [
    {
     "name": "stdout",
     "output_type": "stream",
     "text": [
      "int64\n",
      "Mean = 27650.0, Sum = 138250, Max = 38450, Min = 19700.\n"
     ]
    }
   ],
   "source": [
    "workers['Salary'] = workers['Salary'].astype('int')\n",
    "print(workers['Salary'].dtypes)\n",
    "\n",
    "mean_salary = workers['Salary'].mean()\n",
    "sum_salary = workers['Salary'].sum()\n",
    "max_salary = workers['Salary'].max()\n",
    "min_salary = workers['Salary'].min()\n",
    "\n",
    "print(f'Mean = {mean_salary}, Sum = {sum_salary}, Max = {max_salary}, Min = {min_salary}.')"
   ]
  },
  {
   "cell_type": "markdown",
   "metadata": {},
   "source": [
    "## Session 3"
   ]
  },
  {
   "cell_type": "code",
   "execution_count": 31,
   "metadata": {},
   "outputs": [
    {
     "name": "stdout",
     "output_type": "stream",
     "text": [
      "   Unnamed: 0        LAchildID            UPN  FormerUPN  UPNunknown  \\\n",
      "0           0  RND000215205141  A850728973744        NaN         NaN   \n",
      "1           1  RND000824303014  A141396438491        NaN         NaN   \n",
      "2           2  RND000750143123  A929946861554        NaN         NaN   \n",
      "3           3  RND000909164501  A612330267292        NaN         NaN   \n",
      "4           4  RND000382171815  A604459366806        NaN         NaN   \n",
      "\n",
      "  PersonBirthDate ExpectedPersonBirthDate  GenderCurrent PersonDeathDate  \n",
      "0      2019-12-06                     NaN              1             NaN  \n",
      "1      2011-04-27                     NaN              9             NaN  \n",
      "2      2017-06-06              2019-12-06              1             NaN  \n",
      "3      2014-10-03                     NaN              0             NaN  \n",
      "4      2019-09-25                     NaN              2             NaN  \n",
      "    PersonBirthDate Date of Birth  Age of Person\n",
      "0        2019-12-06    2019-12-06              4\n",
      "1        2011-04-27    2011-04-27             12\n",
      "2        2017-06-06    2017-06-06              6\n",
      "3        2014-10-03    2014-10-03              9\n",
      "4        2019-09-25    2019-09-25              4\n",
      "..              ...           ...            ...\n",
      "327      2010-07-07    2010-07-07             13\n",
      "328      2018-08-14    2018-08-14              5\n",
      "329      2021-12-09    2021-12-09              2\n",
      "330      2013-07-23    2013-07-23             10\n",
      "331      2021-10-25    2021-10-25              2\n",
      "\n",
      "[332 rows x 3 columns]\n"
     ]
    }
   ],
   "source": [
    "import pandas as pd\n",
    "import numpy as np\n",
    "\n",
    "filename = '/workspaces/python-d2i-learning/ChildIdentifiers.csv'\n",
    "\n",
    "data = pd.read_csv(filename)\n",
    "\n",
    "print(data.head())\n",
    "\n",
    "\n",
    "data['Date of Birth'] = pd.to_datetime(data['PersonBirthDate'], format='%Y-%m-%d', errors='coerce')\n",
    "\n",
    "data['Age of Person'] = pd.to_datetime('today').normalize() - data['Date of Birth']\n",
    "\n",
    "data['Age of Person'] = (data['Age of Person'] / pd.Timedelta('365 days')).astype('int')\n",
    "print(data[['PersonBirthDate', 'Date of Birth','Age of Person']])"
   ]
  },
  {
   "cell_type": "code",
   "execution_count": 51,
   "metadata": {},
   "outputs": [
    {
     "ename": "KeyError",
     "evalue": "False",
     "output_type": "error",
     "traceback": [
      "\u001b[0;31m---------------------------------------------------------------------------\u001b[0m",
      "\u001b[0;31mKeyError\u001b[0m                                  Traceback (most recent call last)",
      "File \u001b[0;32m~/.local/lib/python3.10/site-packages/pandas/core/indexes/base.py:3791\u001b[0m, in \u001b[0;36mIndex.get_loc\u001b[0;34m(self, key)\u001b[0m\n\u001b[1;32m   3790\u001b[0m \u001b[38;5;28;01mtry\u001b[39;00m:\n\u001b[0;32m-> 3791\u001b[0m     \u001b[38;5;28;01mreturn\u001b[39;00m \u001b[38;5;28;43mself\u001b[39;49m\u001b[38;5;241;43m.\u001b[39;49m\u001b[43m_engine\u001b[49m\u001b[38;5;241;43m.\u001b[39;49m\u001b[43mget_loc\u001b[49m\u001b[43m(\u001b[49m\u001b[43mcasted_key\u001b[49m\u001b[43m)\u001b[49m\n\u001b[1;32m   3792\u001b[0m \u001b[38;5;28;01mexcept\u001b[39;00m \u001b[38;5;167;01mKeyError\u001b[39;00m \u001b[38;5;28;01mas\u001b[39;00m err:\n",
      "File \u001b[0;32mindex.pyx:152\u001b[0m, in \u001b[0;36mpandas._libs.index.IndexEngine.get_loc\u001b[0;34m()\u001b[0m\n",
      "File \u001b[0;32mindex.pyx:181\u001b[0m, in \u001b[0;36mpandas._libs.index.IndexEngine.get_loc\u001b[0;34m()\u001b[0m\n",
      "File \u001b[0;32mpandas/_libs/hashtable_class_helper.pxi:7080\u001b[0m, in \u001b[0;36mpandas._libs.hashtable.PyObjectHashTable.get_item\u001b[0;34m()\u001b[0m\n",
      "File \u001b[0;32mpandas/_libs/hashtable_class_helper.pxi:7088\u001b[0m, in \u001b[0;36mpandas._libs.hashtable.PyObjectHashTable.get_item\u001b[0;34m()\u001b[0m\n",
      "\u001b[0;31mKeyError\u001b[0m: False",
      "\nThe above exception was the direct cause of the following exception:\n",
      "\u001b[0;31mKeyError\u001b[0m                                  Traceback (most recent call last)",
      "Cell \u001b[0;32mIn[51], line 15\u001b[0m\n\u001b[1;32m     11\u001b[0m over_18_male_condition \u001b[38;5;241m=\u001b[39m (data[\u001b[38;5;124m'\u001b[39m\u001b[38;5;124mAge of Person\u001b[39m\u001b[38;5;124m'\u001b[39m] \u001b[38;5;241m>\u001b[39m \u001b[38;5;241m18\u001b[39m) \u001b[38;5;241m&\u001b[39m (data[\u001b[38;5;124m'\u001b[39m\u001b[38;5;124mGenderCategory\u001b[39m\u001b[38;5;124m'\u001b[39m] \u001b[38;5;241m==\u001b[39m \u001b[38;5;124m'\u001b[39m\u001b[38;5;124mMale\u001b[39m\u001b[38;5;124m'\u001b[39m)\n\u001b[1;32m     13\u001b[0m sliced_df \u001b[38;5;241m=\u001b[39m data[over_18_male_condition]\n\u001b[0;32m---> 15\u001b[0m task_condition \u001b[38;5;241m=\u001b[39m (data[\u001b[38;5;124m'\u001b[39m\u001b[38;5;124mAge of Person\u001b[39m\u001b[38;5;124m'\u001b[39m] \u001b[38;5;241m<\u001b[39m\u001b[38;5;241m=\u001b[39m\u001b[38;5;241m15\u001b[39m \u001b[38;5;241m|\u001b[39m \u001b[43mdata\u001b[49m\u001b[43m[\u001b[49m\u001b[38;5;124;43m'\u001b[39;49m\u001b[38;5;124;43mGenderCategory\u001b[39;49m\u001b[38;5;124;43m'\u001b[39;49m\u001b[43m \u001b[49m\u001b[38;5;241;43m==\u001b[39;49m\u001b[43m \u001b[49m\u001b[38;5;124;43m'\u001b[39;49m\u001b[38;5;124;43mMale\u001b[39;49m\u001b[38;5;124;43m'\u001b[39;49m\u001b[43m]\u001b[49m) \n\u001b[1;32m     16\u001b[0m task_condition_2 \u001b[38;5;241m=\u001b[39m (data[\u001b[38;5;124m'\u001b[39m\u001b[38;5;124mAge of Person\u001b[39m\u001b[38;5;124m'\u001b[39m \u001b[38;5;241m>\u001b[39m\u001b[38;5;241m=\u001b[39m \u001b[38;5;241m15\u001b[39m] \u001b[38;5;241m|\u001b[39m data[\u001b[38;5;124m'\u001b[39m\u001b[38;5;124mGenderCategory\u001b[39m\u001b[38;5;124m'\u001b[39m \u001b[38;5;241m==\u001b[39m \u001b[38;5;124m'\u001b[39m\u001b[38;5;124mFemale\u001b[39m\u001b[38;5;124m'\u001b[39m])\n\u001b[1;32m     17\u001b[0m task_df \u001b[38;5;241m=\u001b[39m data[task_condition]\n",
      "File \u001b[0;32m~/.local/lib/python3.10/site-packages/pandas/core/frame.py:3893\u001b[0m, in \u001b[0;36mDataFrame.__getitem__\u001b[0;34m(self, key)\u001b[0m\n\u001b[1;32m   3891\u001b[0m \u001b[38;5;28;01mif\u001b[39;00m \u001b[38;5;28mself\u001b[39m\u001b[38;5;241m.\u001b[39mcolumns\u001b[38;5;241m.\u001b[39mnlevels \u001b[38;5;241m>\u001b[39m \u001b[38;5;241m1\u001b[39m:\n\u001b[1;32m   3892\u001b[0m     \u001b[38;5;28;01mreturn\u001b[39;00m \u001b[38;5;28mself\u001b[39m\u001b[38;5;241m.\u001b[39m_getitem_multilevel(key)\n\u001b[0;32m-> 3893\u001b[0m indexer \u001b[38;5;241m=\u001b[39m \u001b[38;5;28;43mself\u001b[39;49m\u001b[38;5;241;43m.\u001b[39;49m\u001b[43mcolumns\u001b[49m\u001b[38;5;241;43m.\u001b[39;49m\u001b[43mget_loc\u001b[49m\u001b[43m(\u001b[49m\u001b[43mkey\u001b[49m\u001b[43m)\u001b[49m\n\u001b[1;32m   3894\u001b[0m \u001b[38;5;28;01mif\u001b[39;00m is_integer(indexer):\n\u001b[1;32m   3895\u001b[0m     indexer \u001b[38;5;241m=\u001b[39m [indexer]\n",
      "File \u001b[0;32m~/.local/lib/python3.10/site-packages/pandas/core/indexes/base.py:3798\u001b[0m, in \u001b[0;36mIndex.get_loc\u001b[0;34m(self, key)\u001b[0m\n\u001b[1;32m   3793\u001b[0m     \u001b[38;5;28;01mif\u001b[39;00m \u001b[38;5;28misinstance\u001b[39m(casted_key, \u001b[38;5;28mslice\u001b[39m) \u001b[38;5;129;01mor\u001b[39;00m (\n\u001b[1;32m   3794\u001b[0m         \u001b[38;5;28misinstance\u001b[39m(casted_key, abc\u001b[38;5;241m.\u001b[39mIterable)\n\u001b[1;32m   3795\u001b[0m         \u001b[38;5;129;01mand\u001b[39;00m \u001b[38;5;28many\u001b[39m(\u001b[38;5;28misinstance\u001b[39m(x, \u001b[38;5;28mslice\u001b[39m) \u001b[38;5;28;01mfor\u001b[39;00m x \u001b[38;5;129;01min\u001b[39;00m casted_key)\n\u001b[1;32m   3796\u001b[0m     ):\n\u001b[1;32m   3797\u001b[0m         \u001b[38;5;28;01mraise\u001b[39;00m InvalidIndexError(key)\n\u001b[0;32m-> 3798\u001b[0m     \u001b[38;5;28;01mraise\u001b[39;00m \u001b[38;5;167;01mKeyError\u001b[39;00m(key) \u001b[38;5;28;01mfrom\u001b[39;00m \u001b[38;5;21;01merr\u001b[39;00m\n\u001b[1;32m   3799\u001b[0m \u001b[38;5;28;01mexcept\u001b[39;00m \u001b[38;5;167;01mTypeError\u001b[39;00m:\n\u001b[1;32m   3800\u001b[0m     \u001b[38;5;66;03m# If we have a listlike key, _check_indexing_error will raise\u001b[39;00m\n\u001b[1;32m   3801\u001b[0m     \u001b[38;5;66;03m#  InvalidIndexError. Otherwise we fall through and re-raise\u001b[39;00m\n\u001b[1;32m   3802\u001b[0m     \u001b[38;5;66;03m#  the TypeError.\u001b[39;00m\n\u001b[1;32m   3803\u001b[0m     \u001b[38;5;28mself\u001b[39m\u001b[38;5;241m.\u001b[39m_check_indexing_error(key)\n",
      "\u001b[0;31mKeyError\u001b[0m: False"
     ]
    }
   ],
   "source": [
    "gender_map = {1: 'Male',\n",
    "              2:'Female',\n",
    "              4:'Unknown',\n",
    "              9:'Unknown'\n",
    "            }\n",
    "\n",
    "data['GenderCategory'] = data['GenderCurrent'].map(gender_map)\n",
    "\n",
    "\n",
    "over_18_condition = data['Age of Person'] > 18\n",
    "over_18_male_condition = (data['Age of Person'] > 18) & (data['GenderCategory'] == 'Male')\n",
    "\n",
    "sliced_df = data[over_18_male_condition]\n",
    "\n",
    "task_condition = (data['Age of Person'] <=15 | data['GenderCategory' == 'Male']) \n",
    "task_condition_2 = (data['Age of Person' >= 15] | data['GenderCategory' == 'Female'])\n",
    "task_df = data[task_condition]"
   ]
  }
 ],
 "metadata": {
  "kernelspec": {
   "display_name": "Python 3",
   "language": "python",
   "name": "python3"
  },
  "language_info": {
   "codemirror_mode": {
    "name": "ipython",
    "version": 3
   },
   "file_extension": ".py",
   "mimetype": "text/x-python",
   "name": "python",
   "nbconvert_exporter": "python",
   "pygments_lexer": "ipython3",
   "version": "3.10.13"
  }
 },
 "nbformat": 4,
 "nbformat_minor": 2
}
