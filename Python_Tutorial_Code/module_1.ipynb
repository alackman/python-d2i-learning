{
 "cells": [
  {
   "cell_type": "markdown",
   "metadata": {},
   "source": [
    "## Session 1"
   ]
  },
  {
   "cell_type": "code",
   "execution_count": 24,
   "metadata": {},
   "outputs": [
    {
     "name": "stdout",
     "output_type": "stream",
     "text": [
      "12.56\n"
     ]
    }
   ],
   "source": [
    "radius = 2\n",
    "pi = 3.14\n",
    "area = pi * radius**2\n",
    "\n",
    "print(area)"
   ]
  },
  {
   "cell_type": "code",
   "execution_count": 25,
   "metadata": {},
   "outputs": [
    {
     "name": "stdout",
     "output_type": "stream",
     "text": [
      "My name is CHVLR and it is pronounced 'shuh' + 'VAL' + 'ee' + 'ay'\n"
     ]
    }
   ],
   "source": [
    "name = \"CHVLR\"\n",
    "pronunciation = \"'shuh' + 'VAL' + 'ee' + 'ay'\"\n",
    "sentence = f\"My name is {name} and it is pronounced {pronunciation}\"\n",
    "print(sentence)"
   ]
  },
  {
   "cell_type": "code",
   "execution_count": 26,
   "metadata": {},
   "outputs": [
    {
     "name": "stdout",
     "output_type": "stream",
     "text": [
      "dog\n",
      "cat\n",
      "racoon\n"
     ]
    }
   ],
   "source": [
    "slice_this_phrase = 'dog cat racoon'\n",
    "\n",
    "dog = slice_this_phrase[:3]\n",
    "cat = slice_this_phrase[4:7]\n",
    "racoon = slice_this_phrase[-6:]\n",
    "\n",
    "print(dog)\n",
    "print(cat)\n",
    "print(racoon)"
   ]
  },
  {
   "cell_type": "code",
   "execution_count": 27,
   "metadata": {},
   "outputs": [
    {
     "name": "stdout",
     "output_type": "stream",
     "text": [
      "[1, 2, 3, 4, 4, 5, 6]\n"
     ]
    }
   ],
   "source": [
    "list = [1, 2, 3]\n",
    "list.append(4)\n",
    "list.extend([4, 5, 6])\n",
    "\n",
    "print(list)"
   ]
  },
  {
   "cell_type": "markdown",
   "metadata": {},
   "source": [
    "## Session 2"
   ]
  },
  {
   "cell_type": "code",
   "execution_count": 28,
   "metadata": {},
   "outputs": [
    {
     "name": "stdout",
     "output_type": "stream",
     "text": [
      "Burger\n",
      "Soup\n",
      "dict_keys(['McDonalds', 'Starbucks', 'KFC', 'Zizzis', 'The Pub', 'Geminis'])\n",
      "dict_values(['Burger', 'Coffee', 'Chicken', ['Pizza, Pasta'], {'Monday': 'Soup', 'Tuesday': 'Sausage', 'Others': 'Booze'}, 'Food poisoning'])\n",
      "dict_items([('McDonalds', 'Burger'), ('Starbucks', 'Coffee'), ('KFC', 'Chicken'), ('Zizzis', ['Pizza, Pasta']), ('The Pub', {'Monday': 'Soup', 'Tuesday': 'Sausage', 'Others': 'Booze'}), ('Geminis', 'Food poisoning')])\n",
      "True\n"
     ]
    }
   ],
   "source": [
    "restaurants = {\"McDonalds\": \"Burger\",\n",
    "               \"Starbucks\": \"Coffee\",\n",
    "               \"KFC\": \"Chicken\",\n",
    "               \"Zizzis\": [\"Pizza, Pasta\"],\n",
    "               \"The Pub\": {\"Monday\": \"Soup\",\n",
    "                           \"Tuesday\": \"Sausage\",\n",
    "                           \"Others\": \"Booze\"\n",
    "                           }\n",
    "                        }\n",
    "\n",
    "print(restaurants[\"McDonalds\"])\n",
    "print(restaurants[\"The Pub\"][\"Monday\"])\n",
    "\n",
    "restaurants[\"Geminis\"] = \"Food poisoning\"\n",
    "\n",
    "print(restaurants.keys())\n",
    "print(restaurants.values())\n",
    "print(restaurants.items())\n",
    "\n",
    "print(\"McDonalds\" in restaurants)"
   ]
  },
  {
   "cell_type": "code",
   "execution_count": 29,
   "metadata": {},
   "outputs": [],
   "source": [
    "import pandas as pd\n",
    "\n",
    "filepath = 'https://raw.githubusercontent.com/data-to-insight/csc-validator-be-903/main/tests/fake_data/header.csv'\n",
    "\n",
    "fake_header_data = pd.read_csv(filepath)"
   ]
  },
  {
   "cell_type": "code",
   "execution_count": 30,
   "metadata": {},
   "outputs": [
    {
     "name": "stdout",
     "output_type": "stream",
     "text": [
      "    CHILD  SEX         DOB ETHNIC            UPN  MOTHER MC_DOB\n",
      "0  566910    2  27/03/2008   WROM  D051910639385     NaN    NaN\n",
      "1  384923    2  09/09/2011   REFU  L034811502612     NaN    NaN\n",
      "2  709901    1  14/02/2013   ABAN  Y021751958510     NaN    NaN\n",
      "3  550084    2  04/05/2008   AOTH  R095578985099     NaN    NaN\n",
      "4  710229    2  15/04/2002   REFU  Z095096287583     NaN    NaN\n",
      "5  733831    1  06/07/2013   WROM  Z005227500041     NaN    NaN\n",
      "6   69112    2  11/09/2010   ABAN  X089575916879     NaN    NaN\n",
      "7  853884    2  09/10/2004   WBRI  U096513817313     NaN    NaN\n",
      "8  634852    2  19/10/2006   WIRI  X019131453866     NaN    NaN\n",
      "9  512087    1  01/10/2003   MOTH  J091207487052     NaN    NaN\n",
      "       CHILD  SEX         DOB ETHNIC            UPN  MOTHER MC_DOB\n",
      "2670  152113    1  06/06/2003   WBRI  K096794376750     NaN    NaN\n",
      "2671  481370    2  12/02/2008   BAFR  C014150452081     NaN    NaN\n",
      "2672  791577    1  28/05/2011   WBRI  Q009369089812     NaN    NaN\n",
      "2673  238470    1  21/11/2013   AIND  P095222532769     NaN    NaN\n",
      "2674  437361    1  15/12/2012   WROM  G018001328504     NaN    NaN\n"
     ]
    }
   ],
   "source": [
    "print(fake_header_data.head(10))\n",
    "print(fake_header_data.tail())"
   ]
  },
  {
   "cell_type": "code",
   "execution_count": 31,
   "metadata": {},
   "outputs": [
    {
     "name": "stdout",
     "output_type": "stream",
     "text": [
      "              Name  Salary             Job Title\n",
      "0   David Richards   23600        Burger Flipper\n",
      "1        Milo Relo   38450         Robot Cleaner\n",
      "2      Jenny Paloe   19700             Funny Guy\n",
      "3  Margie Felhouse   31500  Frozen Food Procurer\n",
      "4  Brian Workansen   25000       Bingo Organiser\n",
      "   Salary             Job Title\n",
      "0   23600        Burger Flipper\n",
      "1   38450         Robot Cleaner\n",
      "2   19700             Funny Guy\n",
      "3   31500  Frozen Food Procurer\n",
      "4   25000       Bingo Organiser\n"
     ]
    }
   ],
   "source": [
    "workers = pd.DataFrame(\n",
    "    [\n",
    "        {'Name': 'David Richards',\n",
    "      'Salary': 23600,\n",
    "      'Job Title': 'Burger Flipper'},\n",
    "      {'Name': 'Milo Relo',\n",
    "      'Salary': 38450,\n",
    "      'Job Title': 'Robot Cleaner'},\n",
    "      {'Name': 'Jenny Paloe',\n",
    "      'Salary': 19700,\n",
    "      'Job Title': 'Funny Guy'},\n",
    "      {'Name': 'Margie Felhouse',\n",
    "      'Salary': 31500,\n",
    "      'Job Title': 'Frozen Food Procurer'},\n",
    "      {'Name': 'Brian Workansen',\n",
    "      'Salary': 25000,\n",
    "      'Job Title': 'Bingo Organiser'},\n",
    "    ]\n",
    ")\n",
    "print(workers)\n",
    "\n",
    "print(workers[['Salary','Job Title']])\n",
    "\n"
   ]
  },
  {
   "cell_type": "code",
   "execution_count": 32,
   "metadata": {},
   "outputs": [
    {
     "name": "stdout",
     "output_type": "stream",
     "text": [
      "int64\n",
      "Mean = 27650.0, Sum = 138250, Max = 38450, Min = 19700.\n"
     ]
    }
   ],
   "source": [
    "workers['Salary'] = workers['Salary'].astype('int')\n",
    "print(workers['Salary'].dtypes)\n",
    "\n",
    "mean_salary = workers['Salary'].mean()\n",
    "sum_salary = workers['Salary'].sum()\n",
    "max_salary = workers['Salary'].max()\n",
    "min_salary = workers['Salary'].min()\n",
    "\n",
    "print(f'Mean = {mean_salary}, Sum = {sum_salary}, Max = {max_salary}, Min = {min_salary}.')"
   ]
  }
 ],
 "metadata": {
  "kernelspec": {
   "display_name": "Python 3",
   "language": "python",
   "name": "python3"
  },
  "language_info": {
   "codemirror_mode": {
    "name": "ipython",
    "version": 3
   },
   "file_extension": ".py",
   "mimetype": "text/x-python",
   "name": "python",
   "nbconvert_exporter": "python",
   "pygments_lexer": "ipython3",
   "version": "3.10.13"
  }
 },
 "nbformat": 4,
 "nbformat_minor": 2
}
